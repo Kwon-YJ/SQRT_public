{
 "cells": [
  {
   "cell_type": "code",
   "execution_count": 1,
   "metadata": {},
   "outputs": [],
   "source": [
    "import pandas as pd\n",
    "import pandas_ta as ta\n",
    "import csv\n",
    "\n",
    "data_dir = \"../../data/\"\n",
    "# file_name = \"E6_1h.CSV\"\n",
    "file_name = \"E6_1d.CSV\"\n",
    "\n",
    "\n",
    "csv_data = pd.read_csv(data_dir+file_name, header = None)\n",
    "# csv_data = csv_data.values.tolist()\n",
    "\n",
    "csv_data.columns = [\"t\", \"o\", \"h\", \"l\", \"c\", \"v\", \"none\"]\n"
   ]
  },
  {
   "cell_type": "code",
   "execution_count": 12,
   "metadata": {},
   "outputs": [
    {
     "name": "stdout",
     "output_type": "stream",
     "text": [
      "0            NaN\n",
      "1            NaN\n",
      "2            NaN\n",
      "3            NaN\n",
      "4            NaN\n",
      "          ...   \n",
      "3986    1.058025\n",
      "3987    1.058609\n",
      "3988    1.059296\n",
      "3989    1.061652\n",
      "3990    1.061563\n",
      "Name: EMA_8, Length: 3991, dtype: float64\n",
      "\n",
      "3981    2023-10-11\n",
      "3982    2023-10-12\n",
      "3983    2023-10-13\n",
      "3984    2023-10-16\n",
      "3985    2023-10-17\n",
      "3986    2023-10-18\n",
      "3987    2023-10-19\n",
      "3988    2023-10-20\n",
      "3989    2023-10-23\n",
      "3990    2023-10-24\n",
      "Name: t, dtype: object\n"
     ]
    }
   ],
   "source": [
    "\n",
    "ema8_ohlc4 = ta.ema(csv_data[\"c\"], length=8)\n",
    "\n",
    "ema16_ohlc4 = ta.ema(csv_data[\"c\"], length=16)\n",
    "\n",
    "print(ema8_ohlc4)\n",
    "\n",
    "\n",
    "print(\"\")\n",
    "\n",
    "print(csv_data[\"t\"].tail(10))\n",
    "\n",
    "\n",
    "\n"
   ]
  },
  {
   "cell_type": "code",
   "execution_count": null,
   "metadata": {},
   "outputs": [],
   "source": []
  },
  {
   "cell_type": "code",
   "execution_count": 9,
   "metadata": {},
   "outputs": [
    {
     "name": "stdout",
     "output_type": "stream",
     "text": [
      "0               NaN\n",
      "1               NaN\n",
      "2               NaN\n",
      "3               NaN\n",
      "4               NaN\n",
      "           ...     \n",
      "495    39028.013805\n",
      "496    39586.459240\n",
      "497    40022.875800\n",
      "498    40515.419823\n",
      "499    40953.252785\n",
      "Name: EMA_16, Length: 500, dtype: float64\n",
      "\n",
      "0      1658966400000\n",
      "1      1659052800000\n",
      "2      1659139200000\n",
      "3      1659225600000\n",
      "4      1659312000000\n",
      "           ...      \n",
      "495    1701734400000\n",
      "496    1701820800000\n",
      "497    1701907200000\n",
      "498    1701993600000\n",
      "499    1702080000000\n",
      "Name: t, Length: 500, dtype: int64\n"
     ]
    }
   ],
   "source": [
    "import ccxt\n",
    "\n",
    "binance = ccxt.binance({\n",
    "    \"options\": {\"defaultType\": \"future\"},\n",
    "})\n",
    "\n",
    "\n",
    "btc_ohlcv = binance.fetch_ohlcv(\"BTC/USDT\", \"1d\")\n",
    "\n",
    "df = pd.DataFrame(data=btc_ohlcv, columns=[\"t\", \"o\", \"h\", \"l\", \"c\", \"v\"])\n",
    "\n",
    "ema16_ohlc4 = ta.ema(df[\"c\"], length=16)\n",
    "\n",
    "\n",
    "print(ema16_ohlc4)\n",
    "\n",
    "print(\"\")\n",
    "\n",
    "print(df[\"t\"])"
   ]
  }
 ],
 "metadata": {
  "kernelspec": {
   "display_name": "Python 3",
   "language": "python",
   "name": "python3"
  },
  "language_info": {
   "codemirror_mode": {
    "name": "ipython",
    "version": 3
   },
   "file_extension": ".py",
   "mimetype": "text/x-python",
   "name": "python",
   "nbconvert_exporter": "python",
   "pygments_lexer": "ipython3",
   "version": "3.11.4"
  }
 },
 "nbformat": 4,
 "nbformat_minor": 2
}
